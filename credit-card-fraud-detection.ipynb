{
 "cells": [
  {
   "cell_type": "markdown",
   "id": "a10abd95",
   "metadata": {
    "id": "TDnoEQTWStTz",
    "papermill": {
     "duration": 0.010488,
     "end_time": "2023-03-13T22:03:07.023987",
     "exception": false,
     "start_time": "2023-03-13T22:03:07.013499",
     "status": "completed"
    },
    "tags": []
   },
   "source": [
    "Importing the Dependencies"
   ]
  },
  {
   "cell_type": "code",
   "execution_count": 1,
   "id": "f737e3b8",
   "metadata": {
    "execution": {
     "iopub.execute_input": "2023-03-13T22:03:07.046010Z",
     "iopub.status.busy": "2023-03-13T22:03:07.044390Z",
     "iopub.status.idle": "2023-03-13T22:03:08.554606Z",
     "shell.execute_reply": "2023-03-13T22:03:08.553342Z"
    },
    "id": "cCr99hIzWsBw",
    "papermill": {
     "duration": 1.52444,
     "end_time": "2023-03-13T22:03:08.557902",
     "exception": false,
     "start_time": "2023-03-13T22:03:07.033462",
     "status": "completed"
    },
    "tags": []
   },
   "outputs": [],
   "source": [
    "import pandas as pd\n",
    "import numpy as np\n",
    "import seaborn as sns\n",
    "import matplotlib.pyplot as plt"
   ]
  },
  {
   "cell_type": "code",
   "execution_count": 2,
   "id": "28261d52",
   "metadata": {
    "execution": {
     "iopub.execute_input": "2023-03-13T22:03:08.578697Z",
     "iopub.status.busy": "2023-03-13T22:03:08.578175Z",
     "iopub.status.idle": "2023-03-13T22:03:14.937479Z",
     "shell.execute_reply": "2023-03-13T22:03:14.935860Z"
    },
    "id": "S9Yjz7etXMsY",
    "papermill": {
     "duration": 6.374004,
     "end_time": "2023-03-13T22:03:14.940822",
     "exception": false,
     "start_time": "2023-03-13T22:03:08.566818",
     "status": "completed"
    },
    "tags": []
   },
   "outputs": [],
   "source": [
    "# loading the dataset\n",
    "df=pd.read_csv('/kaggle/input/creditcardfraud/creditcard.csv')"
   ]
  },
  {
   "cell_type": "code",
   "execution_count": 3,
   "id": "b9aef0fe",
   "metadata": {
    "execution": {
     "iopub.execute_input": "2023-03-13T22:03:14.962235Z",
     "iopub.status.busy": "2023-03-13T22:03:14.960719Z",
     "iopub.status.idle": "2023-03-13T22:03:15.025058Z",
     "shell.execute_reply": "2023-03-13T22:03:15.023534Z"
    },
    "id": "9EwJ1eAU7WSK",
    "outputId": "8c902f63-df9d-4e7d-acb0-f8765aaf0f84",
    "papermill": {
     "duration": 0.078342,
     "end_time": "2023-03-13T22:03:15.028096",
     "exception": false,
     "start_time": "2023-03-13T22:03:14.949754",
     "status": "completed"
    },
    "tags": []
   },
   "outputs": [
    {
     "data": {
      "text/html": [
       "<div>\n",
       "<style scoped>\n",
       "    .dataframe tbody tr th:only-of-type {\n",
       "        vertical-align: middle;\n",
       "    }\n",
       "\n",
       "    .dataframe tbody tr th {\n",
       "        vertical-align: top;\n",
       "    }\n",
       "\n",
       "    .dataframe thead th {\n",
       "        text-align: right;\n",
       "    }\n",
       "</style>\n",
       "<table border=\"1\" class=\"dataframe\">\n",
       "  <thead>\n",
       "    <tr style=\"text-align: right;\">\n",
       "      <th></th>\n",
       "      <th>Time</th>\n",
       "      <th>V1</th>\n",
       "      <th>V2</th>\n",
       "      <th>V3</th>\n",
       "      <th>V4</th>\n",
       "      <th>V5</th>\n",
       "      <th>V6</th>\n",
       "      <th>V7</th>\n",
       "      <th>V8</th>\n",
       "      <th>V9</th>\n",
       "      <th>...</th>\n",
       "      <th>V21</th>\n",
       "      <th>V22</th>\n",
       "      <th>V23</th>\n",
       "      <th>V24</th>\n",
       "      <th>V25</th>\n",
       "      <th>V26</th>\n",
       "      <th>V27</th>\n",
       "      <th>V28</th>\n",
       "      <th>Amount</th>\n",
       "      <th>Class</th>\n",
       "    </tr>\n",
       "  </thead>\n",
       "  <tbody>\n",
       "    <tr>\n",
       "      <th>0</th>\n",
       "      <td>0.0</td>\n",
       "      <td>-1.359807</td>\n",
       "      <td>-0.072781</td>\n",
       "      <td>2.536347</td>\n",
       "      <td>1.378155</td>\n",
       "      <td>-0.338321</td>\n",
       "      <td>0.462388</td>\n",
       "      <td>0.239599</td>\n",
       "      <td>0.098698</td>\n",
       "      <td>0.363787</td>\n",
       "      <td>...</td>\n",
       "      <td>-0.018307</td>\n",
       "      <td>0.277838</td>\n",
       "      <td>-0.110474</td>\n",
       "      <td>0.066928</td>\n",
       "      <td>0.128539</td>\n",
       "      <td>-0.189115</td>\n",
       "      <td>0.133558</td>\n",
       "      <td>-0.021053</td>\n",
       "      <td>149.62</td>\n",
       "      <td>0</td>\n",
       "    </tr>\n",
       "    <tr>\n",
       "      <th>1</th>\n",
       "      <td>0.0</td>\n",
       "      <td>1.191857</td>\n",
       "      <td>0.266151</td>\n",
       "      <td>0.166480</td>\n",
       "      <td>0.448154</td>\n",
       "      <td>0.060018</td>\n",
       "      <td>-0.082361</td>\n",
       "      <td>-0.078803</td>\n",
       "      <td>0.085102</td>\n",
       "      <td>-0.255425</td>\n",
       "      <td>...</td>\n",
       "      <td>-0.225775</td>\n",
       "      <td>-0.638672</td>\n",
       "      <td>0.101288</td>\n",
       "      <td>-0.339846</td>\n",
       "      <td>0.167170</td>\n",
       "      <td>0.125895</td>\n",
       "      <td>-0.008983</td>\n",
       "      <td>0.014724</td>\n",
       "      <td>2.69</td>\n",
       "      <td>0</td>\n",
       "    </tr>\n",
       "    <tr>\n",
       "      <th>2</th>\n",
       "      <td>1.0</td>\n",
       "      <td>-1.358354</td>\n",
       "      <td>-1.340163</td>\n",
       "      <td>1.773209</td>\n",
       "      <td>0.379780</td>\n",
       "      <td>-0.503198</td>\n",
       "      <td>1.800499</td>\n",
       "      <td>0.791461</td>\n",
       "      <td>0.247676</td>\n",
       "      <td>-1.514654</td>\n",
       "      <td>...</td>\n",
       "      <td>0.247998</td>\n",
       "      <td>0.771679</td>\n",
       "      <td>0.909412</td>\n",
       "      <td>-0.689281</td>\n",
       "      <td>-0.327642</td>\n",
       "      <td>-0.139097</td>\n",
       "      <td>-0.055353</td>\n",
       "      <td>-0.059752</td>\n",
       "      <td>378.66</td>\n",
       "      <td>0</td>\n",
       "    </tr>\n",
       "    <tr>\n",
       "      <th>3</th>\n",
       "      <td>1.0</td>\n",
       "      <td>-0.966272</td>\n",
       "      <td>-0.185226</td>\n",
       "      <td>1.792993</td>\n",
       "      <td>-0.863291</td>\n",
       "      <td>-0.010309</td>\n",
       "      <td>1.247203</td>\n",
       "      <td>0.237609</td>\n",
       "      <td>0.377436</td>\n",
       "      <td>-1.387024</td>\n",
       "      <td>...</td>\n",
       "      <td>-0.108300</td>\n",
       "      <td>0.005274</td>\n",
       "      <td>-0.190321</td>\n",
       "      <td>-1.175575</td>\n",
       "      <td>0.647376</td>\n",
       "      <td>-0.221929</td>\n",
       "      <td>0.062723</td>\n",
       "      <td>0.061458</td>\n",
       "      <td>123.50</td>\n",
       "      <td>0</td>\n",
       "    </tr>\n",
       "    <tr>\n",
       "      <th>4</th>\n",
       "      <td>2.0</td>\n",
       "      <td>-1.158233</td>\n",
       "      <td>0.877737</td>\n",
       "      <td>1.548718</td>\n",
       "      <td>0.403034</td>\n",
       "      <td>-0.407193</td>\n",
       "      <td>0.095921</td>\n",
       "      <td>0.592941</td>\n",
       "      <td>-0.270533</td>\n",
       "      <td>0.817739</td>\n",
       "      <td>...</td>\n",
       "      <td>-0.009431</td>\n",
       "      <td>0.798278</td>\n",
       "      <td>-0.137458</td>\n",
       "      <td>0.141267</td>\n",
       "      <td>-0.206010</td>\n",
       "      <td>0.502292</td>\n",
       "      <td>0.219422</td>\n",
       "      <td>0.215153</td>\n",
       "      <td>69.99</td>\n",
       "      <td>0</td>\n",
       "    </tr>\n",
       "  </tbody>\n",
       "</table>\n",
       "<p>5 rows × 31 columns</p>\n",
       "</div>"
      ],
      "text/plain": [
       "   Time        V1        V2        V3        V4        V5        V6        V7  \\\n",
       "0   0.0 -1.359807 -0.072781  2.536347  1.378155 -0.338321  0.462388  0.239599   \n",
       "1   0.0  1.191857  0.266151  0.166480  0.448154  0.060018 -0.082361 -0.078803   \n",
       "2   1.0 -1.358354 -1.340163  1.773209  0.379780 -0.503198  1.800499  0.791461   \n",
       "3   1.0 -0.966272 -0.185226  1.792993 -0.863291 -0.010309  1.247203  0.237609   \n",
       "4   2.0 -1.158233  0.877737  1.548718  0.403034 -0.407193  0.095921  0.592941   \n",
       "\n",
       "         V8        V9  ...       V21       V22       V23       V24       V25  \\\n",
       "0  0.098698  0.363787  ... -0.018307  0.277838 -0.110474  0.066928  0.128539   \n",
       "1  0.085102 -0.255425  ... -0.225775 -0.638672  0.101288 -0.339846  0.167170   \n",
       "2  0.247676 -1.514654  ...  0.247998  0.771679  0.909412 -0.689281 -0.327642   \n",
       "3  0.377436 -1.387024  ... -0.108300  0.005274 -0.190321 -1.175575  0.647376   \n",
       "4 -0.270533  0.817739  ... -0.009431  0.798278 -0.137458  0.141267 -0.206010   \n",
       "\n",
       "        V26       V27       V28  Amount  Class  \n",
       "0 -0.189115  0.133558 -0.021053  149.62      0  \n",
       "1  0.125895 -0.008983  0.014724    2.69      0  \n",
       "2 -0.139097 -0.055353 -0.059752  378.66      0  \n",
       "3 -0.221929  0.062723  0.061458  123.50      0  \n",
       "4  0.502292  0.219422  0.215153   69.99      0  \n",
       "\n",
       "[5 rows x 31 columns]"
      ]
     },
     "execution_count": 3,
     "metadata": {},
     "output_type": "execute_result"
    }
   ],
   "source": [
    "# first 5 rows of the dataset\n",
    "df.head()"
   ]
  },
  {
   "cell_type": "code",
   "execution_count": 4,
   "id": "cd9d5960",
   "metadata": {
    "execution": {
     "iopub.execute_input": "2023-03-13T22:03:15.049963Z",
     "iopub.status.busy": "2023-03-13T22:03:15.048870Z",
     "iopub.status.idle": "2023-03-13T22:03:15.079415Z",
     "shell.execute_reply": "2023-03-13T22:03:15.077964Z"
    },
    "id": "x_5qk-VT7WVL",
    "outputId": "6b3a3856-f675-4b06-9d2a-1238b4edbc5f",
    "papermill": {
     "duration": 0.044833,
     "end_time": "2023-03-13T22:03:15.082324",
     "exception": false,
     "start_time": "2023-03-13T22:03:15.037491",
     "status": "completed"
    },
    "tags": []
   },
   "outputs": [
    {
     "data": {
      "text/html": [
       "<div>\n",
       "<style scoped>\n",
       "    .dataframe tbody tr th:only-of-type {\n",
       "        vertical-align: middle;\n",
       "    }\n",
       "\n",
       "    .dataframe tbody tr th {\n",
       "        vertical-align: top;\n",
       "    }\n",
       "\n",
       "    .dataframe thead th {\n",
       "        text-align: right;\n",
       "    }\n",
       "</style>\n",
       "<table border=\"1\" class=\"dataframe\">\n",
       "  <thead>\n",
       "    <tr style=\"text-align: right;\">\n",
       "      <th></th>\n",
       "      <th>Time</th>\n",
       "      <th>V1</th>\n",
       "      <th>V2</th>\n",
       "      <th>V3</th>\n",
       "      <th>V4</th>\n",
       "      <th>V5</th>\n",
       "      <th>V6</th>\n",
       "      <th>V7</th>\n",
       "      <th>V8</th>\n",
       "      <th>V9</th>\n",
       "      <th>...</th>\n",
       "      <th>V21</th>\n",
       "      <th>V22</th>\n",
       "      <th>V23</th>\n",
       "      <th>V24</th>\n",
       "      <th>V25</th>\n",
       "      <th>V26</th>\n",
       "      <th>V27</th>\n",
       "      <th>V28</th>\n",
       "      <th>Amount</th>\n",
       "      <th>Class</th>\n",
       "    </tr>\n",
       "  </thead>\n",
       "  <tbody>\n",
       "    <tr>\n",
       "      <th>284802</th>\n",
       "      <td>172786.0</td>\n",
       "      <td>-11.881118</td>\n",
       "      <td>10.071785</td>\n",
       "      <td>-9.834783</td>\n",
       "      <td>-2.066656</td>\n",
       "      <td>-5.364473</td>\n",
       "      <td>-2.606837</td>\n",
       "      <td>-4.918215</td>\n",
       "      <td>7.305334</td>\n",
       "      <td>1.914428</td>\n",
       "      <td>...</td>\n",
       "      <td>0.213454</td>\n",
       "      <td>0.111864</td>\n",
       "      <td>1.014480</td>\n",
       "      <td>-0.509348</td>\n",
       "      <td>1.436807</td>\n",
       "      <td>0.250034</td>\n",
       "      <td>0.943651</td>\n",
       "      <td>0.823731</td>\n",
       "      <td>0.77</td>\n",
       "      <td>0</td>\n",
       "    </tr>\n",
       "    <tr>\n",
       "      <th>284803</th>\n",
       "      <td>172787.0</td>\n",
       "      <td>-0.732789</td>\n",
       "      <td>-0.055080</td>\n",
       "      <td>2.035030</td>\n",
       "      <td>-0.738589</td>\n",
       "      <td>0.868229</td>\n",
       "      <td>1.058415</td>\n",
       "      <td>0.024330</td>\n",
       "      <td>0.294869</td>\n",
       "      <td>0.584800</td>\n",
       "      <td>...</td>\n",
       "      <td>0.214205</td>\n",
       "      <td>0.924384</td>\n",
       "      <td>0.012463</td>\n",
       "      <td>-1.016226</td>\n",
       "      <td>-0.606624</td>\n",
       "      <td>-0.395255</td>\n",
       "      <td>0.068472</td>\n",
       "      <td>-0.053527</td>\n",
       "      <td>24.79</td>\n",
       "      <td>0</td>\n",
       "    </tr>\n",
       "    <tr>\n",
       "      <th>284804</th>\n",
       "      <td>172788.0</td>\n",
       "      <td>1.919565</td>\n",
       "      <td>-0.301254</td>\n",
       "      <td>-3.249640</td>\n",
       "      <td>-0.557828</td>\n",
       "      <td>2.630515</td>\n",
       "      <td>3.031260</td>\n",
       "      <td>-0.296827</td>\n",
       "      <td>0.708417</td>\n",
       "      <td>0.432454</td>\n",
       "      <td>...</td>\n",
       "      <td>0.232045</td>\n",
       "      <td>0.578229</td>\n",
       "      <td>-0.037501</td>\n",
       "      <td>0.640134</td>\n",
       "      <td>0.265745</td>\n",
       "      <td>-0.087371</td>\n",
       "      <td>0.004455</td>\n",
       "      <td>-0.026561</td>\n",
       "      <td>67.88</td>\n",
       "      <td>0</td>\n",
       "    </tr>\n",
       "    <tr>\n",
       "      <th>284805</th>\n",
       "      <td>172788.0</td>\n",
       "      <td>-0.240440</td>\n",
       "      <td>0.530483</td>\n",
       "      <td>0.702510</td>\n",
       "      <td>0.689799</td>\n",
       "      <td>-0.377961</td>\n",
       "      <td>0.623708</td>\n",
       "      <td>-0.686180</td>\n",
       "      <td>0.679145</td>\n",
       "      <td>0.392087</td>\n",
       "      <td>...</td>\n",
       "      <td>0.265245</td>\n",
       "      <td>0.800049</td>\n",
       "      <td>-0.163298</td>\n",
       "      <td>0.123205</td>\n",
       "      <td>-0.569159</td>\n",
       "      <td>0.546668</td>\n",
       "      <td>0.108821</td>\n",
       "      <td>0.104533</td>\n",
       "      <td>10.00</td>\n",
       "      <td>0</td>\n",
       "    </tr>\n",
       "    <tr>\n",
       "      <th>284806</th>\n",
       "      <td>172792.0</td>\n",
       "      <td>-0.533413</td>\n",
       "      <td>-0.189733</td>\n",
       "      <td>0.703337</td>\n",
       "      <td>-0.506271</td>\n",
       "      <td>-0.012546</td>\n",
       "      <td>-0.649617</td>\n",
       "      <td>1.577006</td>\n",
       "      <td>-0.414650</td>\n",
       "      <td>0.486180</td>\n",
       "      <td>...</td>\n",
       "      <td>0.261057</td>\n",
       "      <td>0.643078</td>\n",
       "      <td>0.376777</td>\n",
       "      <td>0.008797</td>\n",
       "      <td>-0.473649</td>\n",
       "      <td>-0.818267</td>\n",
       "      <td>-0.002415</td>\n",
       "      <td>0.013649</td>\n",
       "      <td>217.00</td>\n",
       "      <td>0</td>\n",
       "    </tr>\n",
       "  </tbody>\n",
       "</table>\n",
       "<p>5 rows × 31 columns</p>\n",
       "</div>"
      ],
      "text/plain": [
       "            Time         V1         V2        V3        V4        V5  \\\n",
       "284802  172786.0 -11.881118  10.071785 -9.834783 -2.066656 -5.364473   \n",
       "284803  172787.0  -0.732789  -0.055080  2.035030 -0.738589  0.868229   \n",
       "284804  172788.0   1.919565  -0.301254 -3.249640 -0.557828  2.630515   \n",
       "284805  172788.0  -0.240440   0.530483  0.702510  0.689799 -0.377961   \n",
       "284806  172792.0  -0.533413  -0.189733  0.703337 -0.506271 -0.012546   \n",
       "\n",
       "              V6        V7        V8        V9  ...       V21       V22  \\\n",
       "284802 -2.606837 -4.918215  7.305334  1.914428  ...  0.213454  0.111864   \n",
       "284803  1.058415  0.024330  0.294869  0.584800  ...  0.214205  0.924384   \n",
       "284804  3.031260 -0.296827  0.708417  0.432454  ...  0.232045  0.578229   \n",
       "284805  0.623708 -0.686180  0.679145  0.392087  ...  0.265245  0.800049   \n",
       "284806 -0.649617  1.577006 -0.414650  0.486180  ...  0.261057  0.643078   \n",
       "\n",
       "             V23       V24       V25       V26       V27       V28  Amount  \\\n",
       "284802  1.014480 -0.509348  1.436807  0.250034  0.943651  0.823731    0.77   \n",
       "284803  0.012463 -1.016226 -0.606624 -0.395255  0.068472 -0.053527   24.79   \n",
       "284804 -0.037501  0.640134  0.265745 -0.087371  0.004455 -0.026561   67.88   \n",
       "284805 -0.163298  0.123205 -0.569159  0.546668  0.108821  0.104533   10.00   \n",
       "284806  0.376777  0.008797 -0.473649 -0.818267 -0.002415  0.013649  217.00   \n",
       "\n",
       "        Class  \n",
       "284802      0  \n",
       "284803      0  \n",
       "284804      0  \n",
       "284805      0  \n",
       "284806      0  \n",
       "\n",
       "[5 rows x 31 columns]"
      ]
     },
     "execution_count": 4,
     "metadata": {},
     "output_type": "execute_result"
    }
   ],
   "source": [
    "df.tail()"
   ]
  },
  {
   "cell_type": "code",
   "execution_count": 5,
   "id": "170b0573",
   "metadata": {
    "execution": {
     "iopub.execute_input": "2023-03-13T22:03:15.104339Z",
     "iopub.status.busy": "2023-03-13T22:03:15.103737Z",
     "iopub.status.idle": "2023-03-13T22:03:15.162691Z",
     "shell.execute_reply": "2023-03-13T22:03:15.160795Z"
    },
    "id": "VAvwX0127WXy",
    "outputId": "df0a661a-333a-4363-e3a1-3afa08fd5dea",
    "papermill": {
     "duration": 0.074312,
     "end_time": "2023-03-13T22:03:15.166286",
     "exception": false,
     "start_time": "2023-03-13T22:03:15.091974",
     "status": "completed"
    },
    "tags": []
   },
   "outputs": [
    {
     "name": "stdout",
     "output_type": "stream",
     "text": [
      "<class 'pandas.core.frame.DataFrame'>\n",
      "RangeIndex: 284807 entries, 0 to 284806\n",
      "Data columns (total 31 columns):\n",
      " #   Column  Non-Null Count   Dtype  \n",
      "---  ------  --------------   -----  \n",
      " 0   Time    284807 non-null  float64\n",
      " 1   V1      284807 non-null  float64\n",
      " 2   V2      284807 non-null  float64\n",
      " 3   V3      284807 non-null  float64\n",
      " 4   V4      284807 non-null  float64\n",
      " 5   V5      284807 non-null  float64\n",
      " 6   V6      284807 non-null  float64\n",
      " 7   V7      284807 non-null  float64\n",
      " 8   V8      284807 non-null  float64\n",
      " 9   V9      284807 non-null  float64\n",
      " 10  V10     284807 non-null  float64\n",
      " 11  V11     284807 non-null  float64\n",
      " 12  V12     284807 non-null  float64\n",
      " 13  V13     284807 non-null  float64\n",
      " 14  V14     284807 non-null  float64\n",
      " 15  V15     284807 non-null  float64\n",
      " 16  V16     284807 non-null  float64\n",
      " 17  V17     284807 non-null  float64\n",
      " 18  V18     284807 non-null  float64\n",
      " 19  V19     284807 non-null  float64\n",
      " 20  V20     284807 non-null  float64\n",
      " 21  V21     284807 non-null  float64\n",
      " 22  V22     284807 non-null  float64\n",
      " 23  V23     284807 non-null  float64\n",
      " 24  V24     284807 non-null  float64\n",
      " 25  V25     284807 non-null  float64\n",
      " 26  V26     284807 non-null  float64\n",
      " 27  V27     284807 non-null  float64\n",
      " 28  V28     284807 non-null  float64\n",
      " 29  Amount  284807 non-null  float64\n",
      " 30  Class   284807 non-null  int64  \n",
      "dtypes: float64(30), int64(1)\n",
      "memory usage: 67.4 MB\n"
     ]
    }
   ],
   "source": [
    "# dataset information\n",
    "df.info()"
   ]
  },
  {
   "cell_type": "code",
   "execution_count": 6,
   "id": "975a84d1",
   "metadata": {
    "execution": {
     "iopub.execute_input": "2023-03-13T22:03:15.188998Z",
     "iopub.status.busy": "2023-03-13T22:03:15.187873Z",
     "iopub.status.idle": "2023-03-13T22:03:15.225413Z",
     "shell.execute_reply": "2023-03-13T22:03:15.223853Z"
    },
    "id": "Bdah5z-t7jDp",
    "outputId": "29c2eedc-0875-4a60-c6d4-0daeb708f90a",
    "papermill": {
     "duration": 0.05244,
     "end_time": "2023-03-13T22:03:15.228677",
     "exception": false,
     "start_time": "2023-03-13T22:03:15.176237",
     "status": "completed"
    },
    "tags": []
   },
   "outputs": [
    {
     "data": {
      "text/plain": [
       "Time      0\n",
       "V1        0\n",
       "V2        0\n",
       "V3        0\n",
       "V4        0\n",
       "V5        0\n",
       "V6        0\n",
       "V7        0\n",
       "V8        0\n",
       "V9        0\n",
       "V10       0\n",
       "V11       0\n",
       "V12       0\n",
       "V13       0\n",
       "V14       0\n",
       "V15       0\n",
       "V16       0\n",
       "V17       0\n",
       "V18       0\n",
       "V19       0\n",
       "V20       0\n",
       "V21       0\n",
       "V22       0\n",
       "V23       0\n",
       "V24       0\n",
       "V25       0\n",
       "V26       0\n",
       "V27       0\n",
       "V28       0\n",
       "Amount    0\n",
       "Class     0\n",
       "dtype: int64"
      ]
     },
     "execution_count": 6,
     "metadata": {},
     "output_type": "execute_result"
    }
   ],
   "source": [
    "# checking the number of missing values in each column\n",
    "df.isnull().sum()"
   ]
  },
  {
   "cell_type": "code",
   "execution_count": 7,
   "id": "3f3ebca0",
   "metadata": {
    "execution": {
     "iopub.execute_input": "2023-03-13T22:03:15.253162Z",
     "iopub.status.busy": "2023-03-13T22:03:15.252586Z",
     "iopub.status.idle": "2023-03-13T22:03:15.265858Z",
     "shell.execute_reply": "2023-03-13T22:03:15.264326Z"
    },
    "id": "kUjW-KDg7jGf",
    "outputId": "66bff7e6-a42b-4c25-c622-a4d1a023503f",
    "papermill": {
     "duration": 0.028526,
     "end_time": "2023-03-13T22:03:15.268950",
     "exception": false,
     "start_time": "2023-03-13T22:03:15.240424",
     "status": "completed"
    },
    "tags": []
   },
   "outputs": [
    {
     "data": {
      "text/plain": [
       "0    284315\n",
       "1       492\n",
       "Name: Class, dtype: int64"
      ]
     },
     "execution_count": 7,
     "metadata": {},
     "output_type": "execute_result"
    }
   ],
   "source": [
    "# distribution of legit transactions & fraudulent transaction \n",
    "df['Class'].value_counts()"
   ]
  },
  {
   "cell_type": "markdown",
   "id": "bf46a616",
   "metadata": {
    "id": "flz_InK7VGri",
    "papermill": {
     "duration": 0.009406,
     "end_time": "2023-03-13T22:03:15.288450",
     "exception": false,
     "start_time": "2023-03-13T22:03:15.279044",
     "status": "completed"
    },
    "tags": []
   },
   "source": [
    "This Dataset is highly unblanced"
   ]
  },
  {
   "cell_type": "markdown",
   "id": "ce33c89a",
   "metadata": {
    "id": "4OlMhkHzVKMv",
    "papermill": {
     "duration": 0.009681,
     "end_time": "2023-03-13T22:03:15.308061",
     "exception": false,
     "start_time": "2023-03-13T22:03:15.298380",
     "status": "completed"
    },
    "tags": []
   },
   "source": [
    "0 --> Normal Transaction\n",
    "\n",
    "1 --> fraudulent transaction"
   ]
  },
  {
   "cell_type": "code",
   "execution_count": 8,
   "id": "18b01a8e",
   "metadata": {
    "execution": {
     "iopub.execute_input": "2023-03-13T22:03:15.330055Z",
     "iopub.status.busy": "2023-03-13T22:03:15.329513Z",
     "iopub.status.idle": "2023-03-13T22:03:15.389566Z",
     "shell.execute_reply": "2023-03-13T22:03:15.388411Z"
    },
    "id": "q01GJjUO7_5H",
    "papermill": {
     "duration": 0.074756,
     "end_time": "2023-03-13T22:03:15.392629",
     "exception": false,
     "start_time": "2023-03-13T22:03:15.317873",
     "status": "completed"
    },
    "tags": []
   },
   "outputs": [],
   "source": [
    "# sperating the data for analysis\n",
    "legit=df[df['Class']==0]\n",
    "fraud=df[df['Class']==1]"
   ]
  },
  {
   "cell_type": "code",
   "execution_count": 9,
   "id": "e9649c6b",
   "metadata": {
    "execution": {
     "iopub.execute_input": "2023-03-13T22:03:15.415355Z",
     "iopub.status.busy": "2023-03-13T22:03:15.414302Z",
     "iopub.status.idle": "2023-03-13T22:03:15.421035Z",
     "shell.execute_reply": "2023-03-13T22:03:15.419911Z"
    },
    "id": "pSGgU5NN8MjJ",
    "outputId": "1a4bc410-3513-446e-c4a9-e4174da4bf0a",
    "papermill": {
     "duration": 0.021047,
     "end_time": "2023-03-13T22:03:15.423703",
     "exception": false,
     "start_time": "2023-03-13T22:03:15.402656",
     "status": "completed"
    },
    "tags": []
   },
   "outputs": [
    {
     "name": "stdout",
     "output_type": "stream",
     "text": [
      "(284315, 31)\n",
      "(492, 31)\n"
     ]
    }
   ],
   "source": [
    "print(legit.shape)\n",
    "print(fraud.shape)"
   ]
  },
  {
   "cell_type": "code",
   "execution_count": 10,
   "id": "15fa62eb",
   "metadata": {
    "execution": {
     "iopub.execute_input": "2023-03-13T22:03:15.447281Z",
     "iopub.status.busy": "2023-03-13T22:03:15.446350Z",
     "iopub.status.idle": "2023-03-13T22:03:15.472539Z",
     "shell.execute_reply": "2023-03-13T22:03:15.471190Z"
    },
    "id": "8tvIuJJf8T_c",
    "outputId": "7e461bbf-6f3f-4169-ccfe-29d194bfa950",
    "papermill": {
     "duration": 0.04078,
     "end_time": "2023-03-13T22:03:15.475297",
     "exception": false,
     "start_time": "2023-03-13T22:03:15.434517",
     "status": "completed"
    },
    "tags": []
   },
   "outputs": [
    {
     "data": {
      "text/plain": [
       "count    284315.000000\n",
       "mean         88.291022\n",
       "std         250.105092\n",
       "min           0.000000\n",
       "25%           5.650000\n",
       "50%          22.000000\n",
       "75%          77.050000\n",
       "max       25691.160000\n",
       "Name: Amount, dtype: float64"
      ]
     },
     "execution_count": 10,
     "metadata": {},
     "output_type": "execute_result"
    }
   ],
   "source": [
    "# statistical measures of the data\n",
    "legit.Amount.describe()"
   ]
  },
  {
   "cell_type": "code",
   "execution_count": 11,
   "id": "f1aad133",
   "metadata": {
    "execution": {
     "iopub.execute_input": "2023-03-13T22:03:15.498041Z",
     "iopub.status.busy": "2023-03-13T22:03:15.497557Z",
     "iopub.status.idle": "2023-03-13T22:03:15.511344Z",
     "shell.execute_reply": "2023-03-13T22:03:15.509957Z"
    },
    "id": "ACWPWw8c8nnb",
    "outputId": "c76fb831-3806-48a7-bc31-12ac059be7bc",
    "papermill": {
     "duration": 0.028434,
     "end_time": "2023-03-13T22:03:15.514102",
     "exception": false,
     "start_time": "2023-03-13T22:03:15.485668",
     "status": "completed"
    },
    "tags": []
   },
   "outputs": [
    {
     "data": {
      "text/plain": [
       "count     492.000000\n",
       "mean      122.211321\n",
       "std       256.683288\n",
       "min         0.000000\n",
       "25%         1.000000\n",
       "50%         9.250000\n",
       "75%       105.890000\n",
       "max      2125.870000\n",
       "Name: Amount, dtype: float64"
      ]
     },
     "execution_count": 11,
     "metadata": {},
     "output_type": "execute_result"
    }
   ],
   "source": [
    "fraud.Amount.describe()"
   ]
  },
  {
   "cell_type": "code",
   "execution_count": 12,
   "id": "188893c3",
   "metadata": {
    "execution": {
     "iopub.execute_input": "2023-03-13T22:03:15.537448Z",
     "iopub.status.busy": "2023-03-13T22:03:15.536901Z",
     "iopub.status.idle": "2023-03-13T22:03:15.704045Z",
     "shell.execute_reply": "2023-03-13T22:03:15.702671Z"
    },
    "id": "4mK632FO8yUo",
    "outputId": "ea85916d-cda5-4b0f-f0cc-8d2a4c1a8be3",
    "papermill": {
     "duration": 0.182457,
     "end_time": "2023-03-13T22:03:15.706848",
     "exception": false,
     "start_time": "2023-03-13T22:03:15.524391",
     "status": "completed"
    },
    "tags": []
   },
   "outputs": [
    {
     "data": {
      "text/html": [
       "<div>\n",
       "<style scoped>\n",
       "    .dataframe tbody tr th:only-of-type {\n",
       "        vertical-align: middle;\n",
       "    }\n",
       "\n",
       "    .dataframe tbody tr th {\n",
       "        vertical-align: top;\n",
       "    }\n",
       "\n",
       "    .dataframe thead th {\n",
       "        text-align: right;\n",
       "    }\n",
       "</style>\n",
       "<table border=\"1\" class=\"dataframe\">\n",
       "  <thead>\n",
       "    <tr style=\"text-align: right;\">\n",
       "      <th></th>\n",
       "      <th>Time</th>\n",
       "      <th>V1</th>\n",
       "      <th>V2</th>\n",
       "      <th>V3</th>\n",
       "      <th>V4</th>\n",
       "      <th>V5</th>\n",
       "      <th>V6</th>\n",
       "      <th>V7</th>\n",
       "      <th>V8</th>\n",
       "      <th>V9</th>\n",
       "      <th>...</th>\n",
       "      <th>V20</th>\n",
       "      <th>V21</th>\n",
       "      <th>V22</th>\n",
       "      <th>V23</th>\n",
       "      <th>V24</th>\n",
       "      <th>V25</th>\n",
       "      <th>V26</th>\n",
       "      <th>V27</th>\n",
       "      <th>V28</th>\n",
       "      <th>Amount</th>\n",
       "    </tr>\n",
       "    <tr>\n",
       "      <th>Class</th>\n",
       "      <th></th>\n",
       "      <th></th>\n",
       "      <th></th>\n",
       "      <th></th>\n",
       "      <th></th>\n",
       "      <th></th>\n",
       "      <th></th>\n",
       "      <th></th>\n",
       "      <th></th>\n",
       "      <th></th>\n",
       "      <th></th>\n",
       "      <th></th>\n",
       "      <th></th>\n",
       "      <th></th>\n",
       "      <th></th>\n",
       "      <th></th>\n",
       "      <th></th>\n",
       "      <th></th>\n",
       "      <th></th>\n",
       "      <th></th>\n",
       "      <th></th>\n",
       "    </tr>\n",
       "  </thead>\n",
       "  <tbody>\n",
       "    <tr>\n",
       "      <th>0</th>\n",
       "      <td>94838.202258</td>\n",
       "      <td>0.008258</td>\n",
       "      <td>-0.006271</td>\n",
       "      <td>0.012171</td>\n",
       "      <td>-0.007860</td>\n",
       "      <td>0.005453</td>\n",
       "      <td>0.002419</td>\n",
       "      <td>0.009637</td>\n",
       "      <td>-0.000987</td>\n",
       "      <td>0.004467</td>\n",
       "      <td>...</td>\n",
       "      <td>-0.000644</td>\n",
       "      <td>-0.001235</td>\n",
       "      <td>-0.000024</td>\n",
       "      <td>0.000070</td>\n",
       "      <td>0.000182</td>\n",
       "      <td>-0.000072</td>\n",
       "      <td>-0.000089</td>\n",
       "      <td>-0.000295</td>\n",
       "      <td>-0.000131</td>\n",
       "      <td>88.291022</td>\n",
       "    </tr>\n",
       "    <tr>\n",
       "      <th>1</th>\n",
       "      <td>80746.806911</td>\n",
       "      <td>-4.771948</td>\n",
       "      <td>3.623778</td>\n",
       "      <td>-7.033281</td>\n",
       "      <td>4.542029</td>\n",
       "      <td>-3.151225</td>\n",
       "      <td>-1.397737</td>\n",
       "      <td>-5.568731</td>\n",
       "      <td>0.570636</td>\n",
       "      <td>-2.581123</td>\n",
       "      <td>...</td>\n",
       "      <td>0.372319</td>\n",
       "      <td>0.713588</td>\n",
       "      <td>0.014049</td>\n",
       "      <td>-0.040308</td>\n",
       "      <td>-0.105130</td>\n",
       "      <td>0.041449</td>\n",
       "      <td>0.051648</td>\n",
       "      <td>0.170575</td>\n",
       "      <td>0.075667</td>\n",
       "      <td>122.211321</td>\n",
       "    </tr>\n",
       "  </tbody>\n",
       "</table>\n",
       "<p>2 rows × 30 columns</p>\n",
       "</div>"
      ],
      "text/plain": [
       "               Time        V1        V2        V3        V4        V5  \\\n",
       "Class                                                                   \n",
       "0      94838.202258  0.008258 -0.006271  0.012171 -0.007860  0.005453   \n",
       "1      80746.806911 -4.771948  3.623778 -7.033281  4.542029 -3.151225   \n",
       "\n",
       "             V6        V7        V8        V9  ...       V20       V21  \\\n",
       "Class                                          ...                       \n",
       "0      0.002419  0.009637 -0.000987  0.004467  ... -0.000644 -0.001235   \n",
       "1     -1.397737 -5.568731  0.570636 -2.581123  ...  0.372319  0.713588   \n",
       "\n",
       "            V22       V23       V24       V25       V26       V27       V28  \\\n",
       "Class                                                                         \n",
       "0     -0.000024  0.000070  0.000182 -0.000072 -0.000089 -0.000295 -0.000131   \n",
       "1      0.014049 -0.040308 -0.105130  0.041449  0.051648  0.170575  0.075667   \n",
       "\n",
       "           Amount  \n",
       "Class              \n",
       "0       88.291022  \n",
       "1      122.211321  \n",
       "\n",
       "[2 rows x 30 columns]"
      ]
     },
     "execution_count": 12,
     "metadata": {},
     "output_type": "execute_result"
    }
   ],
   "source": [
    "# compare the values for both transactions\n",
    "df.groupby('Class').mean()"
   ]
  },
  {
   "cell_type": "markdown",
   "id": "55561d9e",
   "metadata": {
    "id": "ybHNYPpEW0N6",
    "papermill": {
     "duration": 0.010101,
     "end_time": "2023-03-13T22:03:15.727489",
     "exception": false,
     "start_time": "2023-03-13T22:03:15.717388",
     "status": "completed"
    },
    "tags": []
   },
   "source": [
    "Under-Sampling"
   ]
  },
  {
   "cell_type": "markdown",
   "id": "9671439e",
   "metadata": {
    "id": "MlXkIGEIW3KM",
    "papermill": {
     "duration": 0.010969,
     "end_time": "2023-03-13T22:03:15.749260",
     "exception": false,
     "start_time": "2023-03-13T22:03:15.738291",
     "status": "completed"
    },
    "tags": []
   },
   "source": [
    "Build a sample dataset containing similar distribution of normal transactions and Fraudulent Transactions"
   ]
  },
  {
   "cell_type": "markdown",
   "id": "5cd0af9a",
   "metadata": {
    "id": "bCj3Dee7XB0F",
    "papermill": {
     "duration": 0.010064,
     "end_time": "2023-03-13T22:03:15.770326",
     "exception": false,
     "start_time": "2023-03-13T22:03:15.760262",
     "status": "completed"
    },
    "tags": []
   },
   "source": [
    "Number of Fraudulent Transactions --> 492"
   ]
  },
  {
   "cell_type": "code",
   "execution_count": 13,
   "id": "e827aafc",
   "metadata": {
    "execution": {
     "iopub.execute_input": "2023-03-13T22:03:15.793638Z",
     "iopub.status.busy": "2023-03-13T22:03:15.793102Z",
     "iopub.status.idle": "2023-03-13T22:03:15.813932Z",
     "shell.execute_reply": "2023-03-13T22:03:15.812387Z"
    },
    "id": "2mQHFuIk882V",
    "papermill": {
     "duration": 0.036052,
     "end_time": "2023-03-13T22:03:15.816934",
     "exception": false,
     "start_time": "2023-03-13T22:03:15.780882",
     "status": "completed"
    },
    "tags": []
   },
   "outputs": [],
   "source": [
    "legit_sample=legit.sample(n=492)"
   ]
  },
  {
   "cell_type": "markdown",
   "id": "9be8e653",
   "metadata": {
    "id": "SNiYI_SmXeim",
    "papermill": {
     "duration": 0.010213,
     "end_time": "2023-03-13T22:03:15.838197",
     "exception": false,
     "start_time": "2023-03-13T22:03:15.827984",
     "status": "completed"
    },
    "tags": []
   },
   "source": [
    "Concatenating two DataFrames"
   ]
  },
  {
   "cell_type": "code",
   "execution_count": 14,
   "id": "56b41b4d",
   "metadata": {
    "execution": {
     "iopub.execute_input": "2023-03-13T22:03:15.861929Z",
     "iopub.status.busy": "2023-03-13T22:03:15.861422Z",
     "iopub.status.idle": "2023-03-13T22:03:15.868578Z",
     "shell.execute_reply": "2023-03-13T22:03:15.867006Z"
    },
    "id": "8WY_r5339Eie",
    "papermill": {
     "duration": 0.022818,
     "end_time": "2023-03-13T22:03:15.871586",
     "exception": false,
     "start_time": "2023-03-13T22:03:15.848768",
     "status": "completed"
    },
    "tags": []
   },
   "outputs": [],
   "source": [
    "df2=pd.concat([legit_sample,fraud],axis=0)"
   ]
  },
  {
   "cell_type": "code",
   "execution_count": 15,
   "id": "ee266407",
   "metadata": {
    "execution": {
     "iopub.execute_input": "2023-03-13T22:03:15.895533Z",
     "iopub.status.busy": "2023-03-13T22:03:15.895014Z",
     "iopub.status.idle": "2023-03-13T22:03:15.928128Z",
     "shell.execute_reply": "2023-03-13T22:03:15.926592Z"
    },
    "id": "nVKs9U2h9N5M",
    "outputId": "1ba83f1f-250b-4500-e86f-eb0cc61dfcfd",
    "papermill": {
     "duration": 0.049432,
     "end_time": "2023-03-13T22:03:15.931720",
     "exception": false,
     "start_time": "2023-03-13T22:03:15.882288",
     "status": "completed"
    },
    "tags": []
   },
   "outputs": [
    {
     "data": {
      "text/html": [
       "<div>\n",
       "<style scoped>\n",
       "    .dataframe tbody tr th:only-of-type {\n",
       "        vertical-align: middle;\n",
       "    }\n",
       "\n",
       "    .dataframe tbody tr th {\n",
       "        vertical-align: top;\n",
       "    }\n",
       "\n",
       "    .dataframe thead th {\n",
       "        text-align: right;\n",
       "    }\n",
       "</style>\n",
       "<table border=\"1\" class=\"dataframe\">\n",
       "  <thead>\n",
       "    <tr style=\"text-align: right;\">\n",
       "      <th></th>\n",
       "      <th>Time</th>\n",
       "      <th>V1</th>\n",
       "      <th>V2</th>\n",
       "      <th>V3</th>\n",
       "      <th>V4</th>\n",
       "      <th>V5</th>\n",
       "      <th>V6</th>\n",
       "      <th>V7</th>\n",
       "      <th>V8</th>\n",
       "      <th>V9</th>\n",
       "      <th>...</th>\n",
       "      <th>V21</th>\n",
       "      <th>V22</th>\n",
       "      <th>V23</th>\n",
       "      <th>V24</th>\n",
       "      <th>V25</th>\n",
       "      <th>V26</th>\n",
       "      <th>V27</th>\n",
       "      <th>V28</th>\n",
       "      <th>Amount</th>\n",
       "      <th>Class</th>\n",
       "    </tr>\n",
       "  </thead>\n",
       "  <tbody>\n",
       "    <tr>\n",
       "      <th>122077</th>\n",
       "      <td>76427.0</td>\n",
       "      <td>1.305815</td>\n",
       "      <td>-0.499391</td>\n",
       "      <td>0.571777</td>\n",
       "      <td>0.013671</td>\n",
       "      <td>-0.852820</td>\n",
       "      <td>0.009178</td>\n",
       "      <td>-0.611203</td>\n",
       "      <td>0.006823</td>\n",
       "      <td>-0.797775</td>\n",
       "      <td>...</td>\n",
       "      <td>-0.427428</td>\n",
       "      <td>-0.515974</td>\n",
       "      <td>-0.055786</td>\n",
       "      <td>0.050318</td>\n",
       "      <td>0.485278</td>\n",
       "      <td>0.411906</td>\n",
       "      <td>0.013421</td>\n",
       "      <td>0.006331</td>\n",
       "      <td>11.50</td>\n",
       "      <td>0</td>\n",
       "    </tr>\n",
       "    <tr>\n",
       "      <th>221263</th>\n",
       "      <td>142501.0</td>\n",
       "      <td>-0.077683</td>\n",
       "      <td>0.988288</td>\n",
       "      <td>-2.181014</td>\n",
       "      <td>-0.305599</td>\n",
       "      <td>0.643593</td>\n",
       "      <td>-1.692649</td>\n",
       "      <td>1.863397</td>\n",
       "      <td>-0.177305</td>\n",
       "      <td>-0.642557</td>\n",
       "      <td>...</td>\n",
       "      <td>0.575636</td>\n",
       "      <td>1.636863</td>\n",
       "      <td>0.251746</td>\n",
       "      <td>0.054525</td>\n",
       "      <td>-1.129642</td>\n",
       "      <td>0.391197</td>\n",
       "      <td>0.339421</td>\n",
       "      <td>0.327389</td>\n",
       "      <td>120.23</td>\n",
       "      <td>0</td>\n",
       "    </tr>\n",
       "    <tr>\n",
       "      <th>227139</th>\n",
       "      <td>144948.0</td>\n",
       "      <td>2.196662</td>\n",
       "      <td>-0.723551</td>\n",
       "      <td>-1.270951</td>\n",
       "      <td>-1.095179</td>\n",
       "      <td>-0.390742</td>\n",
       "      <td>-0.713730</td>\n",
       "      <td>-0.498926</td>\n",
       "      <td>-0.225281</td>\n",
       "      <td>-0.783462</td>\n",
       "      <td>...</td>\n",
       "      <td>0.389988</td>\n",
       "      <td>1.142730</td>\n",
       "      <td>0.003291</td>\n",
       "      <td>-0.405196</td>\n",
       "      <td>0.094842</td>\n",
       "      <td>-0.028876</td>\n",
       "      <td>-0.026962</td>\n",
       "      <td>-0.074401</td>\n",
       "      <td>10.90</td>\n",
       "      <td>0</td>\n",
       "    </tr>\n",
       "    <tr>\n",
       "      <th>272256</th>\n",
       "      <td>164988.0</td>\n",
       "      <td>1.643815</td>\n",
       "      <td>-2.152240</td>\n",
       "      <td>0.613898</td>\n",
       "      <td>0.277621</td>\n",
       "      <td>-2.363581</td>\n",
       "      <td>0.597806</td>\n",
       "      <td>-1.773400</td>\n",
       "      <td>0.319186</td>\n",
       "      <td>1.632011</td>\n",
       "      <td>...</td>\n",
       "      <td>-0.194241</td>\n",
       "      <td>0.022026</td>\n",
       "      <td>0.081441</td>\n",
       "      <td>-0.068532</td>\n",
       "      <td>-0.576502</td>\n",
       "      <td>0.730318</td>\n",
       "      <td>0.027644</td>\n",
       "      <td>-0.001285</td>\n",
       "      <td>200.00</td>\n",
       "      <td>0</td>\n",
       "    </tr>\n",
       "    <tr>\n",
       "      <th>31044</th>\n",
       "      <td>36186.0</td>\n",
       "      <td>1.066997</td>\n",
       "      <td>0.135525</td>\n",
       "      <td>1.752139</td>\n",
       "      <td>2.469589</td>\n",
       "      <td>-1.085641</td>\n",
       "      <td>0.209227</td>\n",
       "      <td>-0.898508</td>\n",
       "      <td>0.361482</td>\n",
       "      <td>-0.180624</td>\n",
       "      <td>...</td>\n",
       "      <td>0.284566</td>\n",
       "      <td>0.730880</td>\n",
       "      <td>0.000845</td>\n",
       "      <td>0.504881</td>\n",
       "      <td>0.154888</td>\n",
       "      <td>0.084459</td>\n",
       "      <td>0.035483</td>\n",
       "      <td>0.031445</td>\n",
       "      <td>4.55</td>\n",
       "      <td>0</td>\n",
       "    </tr>\n",
       "  </tbody>\n",
       "</table>\n",
       "<p>5 rows × 31 columns</p>\n",
       "</div>"
      ],
      "text/plain": [
       "            Time        V1        V2        V3        V4        V5        V6  \\\n",
       "122077   76427.0  1.305815 -0.499391  0.571777  0.013671 -0.852820  0.009178   \n",
       "221263  142501.0 -0.077683  0.988288 -2.181014 -0.305599  0.643593 -1.692649   \n",
       "227139  144948.0  2.196662 -0.723551 -1.270951 -1.095179 -0.390742 -0.713730   \n",
       "272256  164988.0  1.643815 -2.152240  0.613898  0.277621 -2.363581  0.597806   \n",
       "31044    36186.0  1.066997  0.135525  1.752139  2.469589 -1.085641  0.209227   \n",
       "\n",
       "              V7        V8        V9  ...       V21       V22       V23  \\\n",
       "122077 -0.611203  0.006823 -0.797775  ... -0.427428 -0.515974 -0.055786   \n",
       "221263  1.863397 -0.177305 -0.642557  ...  0.575636  1.636863  0.251746   \n",
       "227139 -0.498926 -0.225281 -0.783462  ...  0.389988  1.142730  0.003291   \n",
       "272256 -1.773400  0.319186  1.632011  ... -0.194241  0.022026  0.081441   \n",
       "31044  -0.898508  0.361482 -0.180624  ...  0.284566  0.730880  0.000845   \n",
       "\n",
       "             V24       V25       V26       V27       V28  Amount  Class  \n",
       "122077  0.050318  0.485278  0.411906  0.013421  0.006331   11.50      0  \n",
       "221263  0.054525 -1.129642  0.391197  0.339421  0.327389  120.23      0  \n",
       "227139 -0.405196  0.094842 -0.028876 -0.026962 -0.074401   10.90      0  \n",
       "272256 -0.068532 -0.576502  0.730318  0.027644 -0.001285  200.00      0  \n",
       "31044   0.504881  0.154888  0.084459  0.035483  0.031445    4.55      0  \n",
       "\n",
       "[5 rows x 31 columns]"
      ]
     },
     "execution_count": 15,
     "metadata": {},
     "output_type": "execute_result"
    }
   ],
   "source": [
    "df2.head()"
   ]
  },
  {
   "cell_type": "code",
   "execution_count": 16,
   "id": "b6ed01c0",
   "metadata": {
    "execution": {
     "iopub.execute_input": "2023-03-13T22:03:15.956468Z",
     "iopub.status.busy": "2023-03-13T22:03:15.955968Z",
     "iopub.status.idle": "2023-03-13T22:03:15.966445Z",
     "shell.execute_reply": "2023-03-13T22:03:15.964873Z"
    },
    "id": "187gb6SU9Qxb",
    "outputId": "17362221-2c19-416a-8df9-0836f41c54f6",
    "papermill": {
     "duration": 0.02652,
     "end_time": "2023-03-13T22:03:15.969386",
     "exception": false,
     "start_time": "2023-03-13T22:03:15.942866",
     "status": "completed"
    },
    "tags": []
   },
   "outputs": [
    {
     "data": {
      "text/plain": [
       "0    492\n",
       "1    492\n",
       "Name: Class, dtype: int64"
      ]
     },
     "execution_count": 16,
     "metadata": {},
     "output_type": "execute_result"
    }
   ],
   "source": [
    "df2['Class'].value_counts()"
   ]
  },
  {
   "cell_type": "code",
   "execution_count": 17,
   "id": "67e90b7a",
   "metadata": {
    "execution": {
     "iopub.execute_input": "2023-03-13T22:03:15.994553Z",
     "iopub.status.busy": "2023-03-13T22:03:15.993300Z",
     "iopub.status.idle": "2023-03-13T22:03:16.025781Z",
     "shell.execute_reply": "2023-03-13T22:03:16.024099Z"
    },
    "id": "xBx4JGJA9YoV",
    "outputId": "f0535865-a4f7-4aef-b2e3-1c176bbb967a",
    "papermill": {
     "duration": 0.0486,
     "end_time": "2023-03-13T22:03:16.029018",
     "exception": false,
     "start_time": "2023-03-13T22:03:15.980418",
     "status": "completed"
    },
    "tags": []
   },
   "outputs": [
    {
     "data": {
      "text/html": [
       "<div>\n",
       "<style scoped>\n",
       "    .dataframe tbody tr th:only-of-type {\n",
       "        vertical-align: middle;\n",
       "    }\n",
       "\n",
       "    .dataframe tbody tr th {\n",
       "        vertical-align: top;\n",
       "    }\n",
       "\n",
       "    .dataframe thead th {\n",
       "        text-align: right;\n",
       "    }\n",
       "</style>\n",
       "<table border=\"1\" class=\"dataframe\">\n",
       "  <thead>\n",
       "    <tr style=\"text-align: right;\">\n",
       "      <th></th>\n",
       "      <th>Time</th>\n",
       "      <th>V1</th>\n",
       "      <th>V2</th>\n",
       "      <th>V3</th>\n",
       "      <th>V4</th>\n",
       "      <th>V5</th>\n",
       "      <th>V6</th>\n",
       "      <th>V7</th>\n",
       "      <th>V8</th>\n",
       "      <th>V9</th>\n",
       "      <th>...</th>\n",
       "      <th>V20</th>\n",
       "      <th>V21</th>\n",
       "      <th>V22</th>\n",
       "      <th>V23</th>\n",
       "      <th>V24</th>\n",
       "      <th>V25</th>\n",
       "      <th>V26</th>\n",
       "      <th>V27</th>\n",
       "      <th>V28</th>\n",
       "      <th>Amount</th>\n",
       "    </tr>\n",
       "    <tr>\n",
       "      <th>Class</th>\n",
       "      <th></th>\n",
       "      <th></th>\n",
       "      <th></th>\n",
       "      <th></th>\n",
       "      <th></th>\n",
       "      <th></th>\n",
       "      <th></th>\n",
       "      <th></th>\n",
       "      <th></th>\n",
       "      <th></th>\n",
       "      <th></th>\n",
       "      <th></th>\n",
       "      <th></th>\n",
       "      <th></th>\n",
       "      <th></th>\n",
       "      <th></th>\n",
       "      <th></th>\n",
       "      <th></th>\n",
       "      <th></th>\n",
       "      <th></th>\n",
       "      <th></th>\n",
       "    </tr>\n",
       "  </thead>\n",
       "  <tbody>\n",
       "    <tr>\n",
       "      <th>0</th>\n",
       "      <td>93859.485772</td>\n",
       "      <td>0.116214</td>\n",
       "      <td>0.041432</td>\n",
       "      <td>-0.023072</td>\n",
       "      <td>-0.046704</td>\n",
       "      <td>-0.046710</td>\n",
       "      <td>0.034473</td>\n",
       "      <td>0.006684</td>\n",
       "      <td>0.040909</td>\n",
       "      <td>-0.054124</td>\n",
       "      <td>...</td>\n",
       "      <td>0.007747</td>\n",
       "      <td>-0.010035</td>\n",
       "      <td>-0.007969</td>\n",
       "      <td>-0.050425</td>\n",
       "      <td>0.054529</td>\n",
       "      <td>-0.019918</td>\n",
       "      <td>0.015484</td>\n",
       "      <td>0.004301</td>\n",
       "      <td>-0.006458</td>\n",
       "      <td>93.504045</td>\n",
       "    </tr>\n",
       "    <tr>\n",
       "      <th>1</th>\n",
       "      <td>80746.806911</td>\n",
       "      <td>-4.771948</td>\n",
       "      <td>3.623778</td>\n",
       "      <td>-7.033281</td>\n",
       "      <td>4.542029</td>\n",
       "      <td>-3.151225</td>\n",
       "      <td>-1.397737</td>\n",
       "      <td>-5.568731</td>\n",
       "      <td>0.570636</td>\n",
       "      <td>-2.581123</td>\n",
       "      <td>...</td>\n",
       "      <td>0.372319</td>\n",
       "      <td>0.713588</td>\n",
       "      <td>0.014049</td>\n",
       "      <td>-0.040308</td>\n",
       "      <td>-0.105130</td>\n",
       "      <td>0.041449</td>\n",
       "      <td>0.051648</td>\n",
       "      <td>0.170575</td>\n",
       "      <td>0.075667</td>\n",
       "      <td>122.211321</td>\n",
       "    </tr>\n",
       "  </tbody>\n",
       "</table>\n",
       "<p>2 rows × 30 columns</p>\n",
       "</div>"
      ],
      "text/plain": [
       "               Time        V1        V2        V3        V4        V5  \\\n",
       "Class                                                                   \n",
       "0      93859.485772  0.116214  0.041432 -0.023072 -0.046704 -0.046710   \n",
       "1      80746.806911 -4.771948  3.623778 -7.033281  4.542029 -3.151225   \n",
       "\n",
       "             V6        V7        V8        V9  ...       V20       V21  \\\n",
       "Class                                          ...                       \n",
       "0      0.034473  0.006684  0.040909 -0.054124  ...  0.007747 -0.010035   \n",
       "1     -1.397737 -5.568731  0.570636 -2.581123  ...  0.372319  0.713588   \n",
       "\n",
       "            V22       V23       V24       V25       V26       V27       V28  \\\n",
       "Class                                                                         \n",
       "0     -0.007969 -0.050425  0.054529 -0.019918  0.015484  0.004301 -0.006458   \n",
       "1      0.014049 -0.040308 -0.105130  0.041449  0.051648  0.170575  0.075667   \n",
       "\n",
       "           Amount  \n",
       "Class              \n",
       "0       93.504045  \n",
       "1      122.211321  \n",
       "\n",
       "[2 rows x 30 columns]"
      ]
     },
     "execution_count": 17,
     "metadata": {},
     "output_type": "execute_result"
    }
   ],
   "source": [
    "df2.groupby('Class').mean()"
   ]
  },
  {
   "cell_type": "markdown",
   "id": "1dd5fdc1",
   "metadata": {
    "id": "wbe0g12oYhyK",
    "papermill": {
     "duration": 0.011331,
     "end_time": "2023-03-13T22:03:16.051889",
     "exception": false,
     "start_time": "2023-03-13T22:03:16.040558",
     "status": "completed"
    },
    "tags": []
   },
   "source": [
    "Splitting the data into Features & Targets"
   ]
  },
  {
   "cell_type": "code",
   "execution_count": 18,
   "id": "a41c6e20",
   "metadata": {
    "execution": {
     "iopub.execute_input": "2023-03-13T22:03:16.079275Z",
     "iopub.status.busy": "2023-03-13T22:03:16.078690Z",
     "iopub.status.idle": "2023-03-13T22:03:16.087364Z",
     "shell.execute_reply": "2023-03-13T22:03:16.085799Z"
    },
    "id": "-swt0dTd9dDW",
    "papermill": {
     "duration": 0.025489,
     "end_time": "2023-03-13T22:03:16.090128",
     "exception": false,
     "start_time": "2023-03-13T22:03:16.064639",
     "status": "completed"
    },
    "tags": []
   },
   "outputs": [],
   "source": [
    "x=df2.drop(['Class'],axis=1)\n",
    "y=df2['Class']"
   ]
  },
  {
   "cell_type": "markdown",
   "id": "97607be7",
   "metadata": {
    "id": "78wEbV41Y6j3",
    "papermill": {
     "duration": 0.011131,
     "end_time": "2023-03-13T22:03:16.114176",
     "exception": false,
     "start_time": "2023-03-13T22:03:16.103045",
     "status": "completed"
    },
    "tags": []
   },
   "source": [
    "Split the data into Training data & Testing Data"
   ]
  },
  {
   "cell_type": "code",
   "execution_count": 19,
   "id": "7438ffbd",
   "metadata": {
    "execution": {
     "iopub.execute_input": "2023-03-13T22:03:16.140979Z",
     "iopub.status.busy": "2023-03-13T22:03:16.140428Z",
     "iopub.status.idle": "2023-03-13T22:03:16.463249Z",
     "shell.execute_reply": "2023-03-13T22:03:16.461745Z"
    },
    "id": "HZFZ3y0o9ogl",
    "papermill": {
     "duration": 0.340273,
     "end_time": "2023-03-13T22:03:16.466440",
     "exception": false,
     "start_time": "2023-03-13T22:03:16.126167",
     "status": "completed"
    },
    "tags": []
   },
   "outputs": [],
   "source": [
    "from sklearn.model_selection import train_test_split\n",
    "x_train,x_test,y_train,y_test=train_test_split(x,y,test_size=0.2,stratify=y,random_state=42)"
   ]
  },
  {
   "cell_type": "markdown",
   "id": "a13b61dd",
   "metadata": {
    "id": "aowgjqbeZ7d1",
    "papermill": {
     "duration": 0.010763,
     "end_time": "2023-03-13T22:03:16.488332",
     "exception": false,
     "start_time": "2023-03-13T22:03:16.477569",
     "status": "completed"
    },
    "tags": []
   },
   "source": [
    "Model Training"
   ]
  },
  {
   "cell_type": "markdown",
   "id": "d50a3337",
   "metadata": {
    "id": "i0NkjaxyZ96E",
    "papermill": {
     "duration": 0.010664,
     "end_time": "2023-03-13T22:03:16.509968",
     "exception": false,
     "start_time": "2023-03-13T22:03:16.499304",
     "status": "completed"
    },
    "tags": []
   },
   "source": [
    "Logistic Regression"
   ]
  },
  {
   "cell_type": "code",
   "execution_count": 20,
   "id": "e4d12d3c",
   "metadata": {
    "execution": {
     "iopub.execute_input": "2023-03-13T22:03:16.534593Z",
     "iopub.status.busy": "2023-03-13T22:03:16.534066Z",
     "iopub.status.idle": "2023-03-13T22:03:16.669569Z",
     "shell.execute_reply": "2023-03-13T22:03:16.667799Z"
    },
    "id": "fy70Lf0H965n",
    "papermill": {
     "duration": 0.151971,
     "end_time": "2023-03-13T22:03:16.672930",
     "exception": false,
     "start_time": "2023-03-13T22:03:16.520959",
     "status": "completed"
    },
    "tags": []
   },
   "outputs": [],
   "source": [
    "from sklearn.linear_model import LogisticRegression\n",
    "model=LogisticRegression()"
   ]
  },
  {
   "cell_type": "code",
   "execution_count": 21,
   "id": "de2dc58b",
   "metadata": {
    "execution": {
     "iopub.execute_input": "2023-03-13T22:03:16.699260Z",
     "iopub.status.busy": "2023-03-13T22:03:16.697676Z",
     "iopub.status.idle": "2023-03-13T22:03:16.798168Z",
     "shell.execute_reply": "2023-03-13T22:03:16.796089Z"
    },
    "id": "j6fXN6B1-Haf",
    "outputId": "8a5ae9cb-2b9b-423f-8b95-78608f0273d2",
    "papermill": {
     "duration": 0.1194,
     "end_time": "2023-03-13T22:03:16.803587",
     "exception": false,
     "start_time": "2023-03-13T22:03:16.684187",
     "status": "completed"
    },
    "tags": []
   },
   "outputs": [
    {
     "data": {
      "text/plain": [
       "LogisticRegression()"
      ]
     },
     "execution_count": 21,
     "metadata": {},
     "output_type": "execute_result"
    }
   ],
   "source": [
    "model.fit(x_train,y_train)"
   ]
  },
  {
   "cell_type": "markdown",
   "id": "8335b56b",
   "metadata": {
    "id": "H9FYWyKjalvC",
    "papermill": {
     "duration": 0.034563,
     "end_time": "2023-03-13T22:03:16.867250",
     "exception": false,
     "start_time": "2023-03-13T22:03:16.832687",
     "status": "completed"
    },
    "tags": []
   },
   "source": [
    "Model Evaluation"
   ]
  },
  {
   "cell_type": "markdown",
   "id": "e417405d",
   "metadata": {
    "id": "O6O6kbwYaoxH",
    "papermill": {
     "duration": 0.013287,
     "end_time": "2023-03-13T22:03:16.911111",
     "exception": false,
     "start_time": "2023-03-13T22:03:16.897824",
     "status": "completed"
    },
    "tags": []
   },
   "source": [
    "Accuracy Score"
   ]
  },
  {
   "cell_type": "code",
   "execution_count": 22,
   "id": "4400e2ca",
   "metadata": {
    "execution": {
     "iopub.execute_input": "2023-03-13T22:03:16.935850Z",
     "iopub.status.busy": "2023-03-13T22:03:16.935347Z",
     "iopub.status.idle": "2023-03-13T22:03:16.941197Z",
     "shell.execute_reply": "2023-03-13T22:03:16.939758Z"
    },
    "id": "NNspXBEU-Lqz",
    "papermill": {
     "duration": 0.021856,
     "end_time": "2023-03-13T22:03:16.944198",
     "exception": false,
     "start_time": "2023-03-13T22:03:16.922342",
     "status": "completed"
    },
    "tags": []
   },
   "outputs": [],
   "source": [
    "from sklearn.metrics import accuracy_score"
   ]
  },
  {
   "cell_type": "code",
   "execution_count": 23,
   "id": "73f72ce7",
   "metadata": {
    "execution": {
     "iopub.execute_input": "2023-03-13T22:03:16.970110Z",
     "iopub.status.busy": "2023-03-13T22:03:16.969544Z",
     "iopub.status.idle": "2023-03-13T22:03:16.984098Z",
     "shell.execute_reply": "2023-03-13T22:03:16.981747Z"
    },
    "id": "bWd6Rmir-O-T",
    "outputId": "b9b383a0-4f0c-4b04-9cc6-995e5149d56d",
    "papermill": {
     "duration": 0.033541,
     "end_time": "2023-03-13T22:03:16.989693",
     "exception": false,
     "start_time": "2023-03-13T22:03:16.956152",
     "status": "completed"
    },
    "tags": []
   },
   "outputs": [
    {
     "name": "stdout",
     "output_type": "stream",
     "text": [
      "Accuracy on Training data :  0.9034307496823379\n"
     ]
    }
   ],
   "source": [
    "# accuracy on training data\n",
    "y_train_pred=model.predict(x_train)\n",
    "print('Accuracy on Training data : ',accuracy_score(y_train,y_train_pred))"
   ]
  },
  {
   "cell_type": "code",
   "execution_count": 24,
   "id": "39b4a95b",
   "metadata": {
    "execution": {
     "iopub.execute_input": "2023-03-13T22:03:17.053516Z",
     "iopub.status.busy": "2023-03-13T22:03:17.052421Z",
     "iopub.status.idle": "2023-03-13T22:03:17.071515Z",
     "shell.execute_reply": "2023-03-13T22:03:17.069312Z"
    },
    "id": "D6hNyc5F-pUU",
    "outputId": "2d1b404b-2e8f-4735-ba57-0826ba4945b1",
    "papermill": {
     "duration": 0.058015,
     "end_time": "2023-03-13T22:03:17.076881",
     "exception": false,
     "start_time": "2023-03-13T22:03:17.018866",
     "status": "completed"
    },
    "tags": []
   },
   "outputs": [
    {
     "name": "stdout",
     "output_type": "stream",
     "text": [
      "Accuracy on Test data :  0.9543147208121827\n"
     ]
    }
   ],
   "source": [
    "# accuracy on testing data\n",
    "y_test_pred=model.predict(x_test)\n",
    "print('Accuracy on Test data : ',accuracy_score(y_test,y_test_pred))"
   ]
  },
  {
   "cell_type": "code",
   "execution_count": null,
   "id": "247b38de",
   "metadata": {
    "id": "DaNGuqA_-5tA",
    "papermill": {
     "duration": 0.011045,
     "end_time": "2023-03-13T22:03:17.111290",
     "exception": false,
     "start_time": "2023-03-13T22:03:17.100245",
     "status": "completed"
    },
    "tags": []
   },
   "outputs": [],
   "source": []
  }
 ],
 "metadata": {
  "kernelspec": {
   "display_name": "Python 3 (ipykernel)",
   "language": "python",
   "name": "python3"
  },
  "language_info": {
   "codemirror_mode": {
    "name": "ipython",
    "version": 3
   },
   "file_extension": ".py",
   "mimetype": "text/x-python",
   "name": "python",
   "nbconvert_exporter": "python",
   "pygments_lexer": "ipython3",
   "version": "3.9.7"
  },
  "papermill": {
   "default_parameters": {},
   "duration": 25.861443,
   "end_time": "2023-03-13T22:03:18.251382",
   "environment_variables": {},
   "exception": null,
   "input_path": "__notebook__.ipynb",
   "output_path": "__notebook__.ipynb",
   "parameters": {},
   "start_time": "2023-03-13T22:02:52.389939",
   "version": "2.4.0"
  }
 },
 "nbformat": 4,
 "nbformat_minor": 5
}
